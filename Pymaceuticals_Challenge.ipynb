{
 "cells": [
  {
   "cell_type": "markdown",
   "metadata": {},
   "source": [
    "## Observations and Insights "
   ]
  },
  {
   "cell_type": "markdown",
   "metadata": {},
   "source": []
  },
  {
   "cell_type": "markdown",
   "metadata": {},
   "source": [
    "# Observations:\n",
    "\n",
    "1) Based on the summary statistics table and box plot: Capomulin and Ramicane appear to be two of the relatively most effective drugs at minimizing tumor volume. Their mean and median tumor volume values hover around 40 mm3.\n",
    "\n",
    "2) Based on the line plot: The plot for s185 implies Capomulins may be effective at decreasing tumor volume over time. Tumor volume decreased from 45 mm3 to less than 25 over the course of the mouse experiment. (That said, the line plot is of one individual mouse (small sample) and there were no comparable line charts made with other drugs)\n",
    "\n",
    "3) Based on the correlation data/scatterplot: There appears to be a fairly significant correlation between average weight and average tumor volume in mice. The heavier the mouse, the more likely they are to have relatively higher tumor volume.\n"
   ]
  },
  {
   "cell_type": "code",
   "execution_count": 1,
   "metadata": {},
   "outputs": [],
   "source": [
    "# Dependencies and Setup\n",
    "import matplotlib.pyplot as plt\n",
    "import pandas as pd\n",
    "import scipy.stats as st\n",
    "from scipy.stats import linregress\n",
    "\n",
    "# Study data files\n",
    "mouse_metadata_path = \"/Users/emilyye/BOOTCAMP WORK/upenn-phi-virt-data-09-2021-u-c/05-Matplotlib/Homework/Instructions/Pymaceuticals/data/Mouse_metadata.csv\"\n",
    "study_results_path = \"/Users/emilyye/BOOTCAMP WORK/upenn-phi-virt-data-09-2021-u-c/05-Matplotlib/Homework/Instructions/Pymaceuticals/data/Study_results.csv\"\n",
    "\n",
    "# Read the mouse data and the study results\n",
    "mouse_metadata = pd.read_csv(mouse_metadata_path)\n",
    "study_results = pd.read_csv(study_results_path)\n",
    "\n",
    "# Combine the data into a single dataset\n",
    "\n",
    "mouse_results = pd.merge(mouse_metadata, study_results, on=\"Mouse ID\", how=\"outer\")\n",
    "\n"
   ]
  },
  {
   "cell_type": "code",
   "execution_count": 2,
   "metadata": {},
   "outputs": [
    {
     "data": {
      "text/plain": [
       "g989    13\n",
       "k403    10\n",
       "j365    10\n",
       "j984    10\n",
       "k210    10\n",
       "        ..\n",
       "v199     1\n",
       "t573     1\n",
       "f932     1\n",
       "b447     1\n",
       "u153     1\n",
       "Name: Mouse ID, Length: 249, dtype: int64"
      ]
     },
     "execution_count": 2,
     "metadata": {},
     "output_type": "execute_result"
    }
   ],
   "source": [
    "# Checking the number of mice. Length at the bottom indicates 249 mice\n",
    "number_mice = mouse_results[\"Mouse ID\"].value_counts()\n",
    "number_mice"
   ]
  },
  {
   "cell_type": "code",
   "execution_count": 3,
   "metadata": {},
   "outputs": [
    {
     "data": {
      "text/html": [
       "<div>\n",
       "<style scoped>\n",
       "    .dataframe tbody tr th:only-of-type {\n",
       "        vertical-align: middle;\n",
       "    }\n",
       "\n",
       "    .dataframe tbody tr th {\n",
       "        vertical-align: top;\n",
       "    }\n",
       "\n",
       "    .dataframe thead th {\n",
       "        text-align: right;\n",
       "    }\n",
       "</style>\n",
       "<table border=\"1\" class=\"dataframe\">\n",
       "  <thead>\n",
       "    <tr style=\"text-align: right;\">\n",
       "      <th></th>\n",
       "      <th>Mouse ID</th>\n",
       "      <th>Drug Regimen</th>\n",
       "      <th>Sex</th>\n",
       "      <th>Age_months</th>\n",
       "      <th>Weight (g)</th>\n",
       "      <th>Timepoint</th>\n",
       "      <th>Tumor Volume (mm3)</th>\n",
       "      <th>Metastatic Sites</th>\n",
       "      <th>duplicated</th>\n",
       "    </tr>\n",
       "  </thead>\n",
       "  <tbody>\n",
       "    <tr>\n",
       "      <th>908</th>\n",
       "      <td>g989</td>\n",
       "      <td>Propriva</td>\n",
       "      <td>Female</td>\n",
       "      <td>21</td>\n",
       "      <td>26</td>\n",
       "      <td>0</td>\n",
       "      <td>45.000000</td>\n",
       "      <td>0</td>\n",
       "      <td>True</td>\n",
       "    </tr>\n",
       "    <tr>\n",
       "      <th>909</th>\n",
       "      <td>g989</td>\n",
       "      <td>Propriva</td>\n",
       "      <td>Female</td>\n",
       "      <td>21</td>\n",
       "      <td>26</td>\n",
       "      <td>0</td>\n",
       "      <td>45.000000</td>\n",
       "      <td>0</td>\n",
       "      <td>True</td>\n",
       "    </tr>\n",
       "    <tr>\n",
       "      <th>910</th>\n",
       "      <td>g989</td>\n",
       "      <td>Propriva</td>\n",
       "      <td>Female</td>\n",
       "      <td>21</td>\n",
       "      <td>26</td>\n",
       "      <td>5</td>\n",
       "      <td>48.786801</td>\n",
       "      <td>0</td>\n",
       "      <td>True</td>\n",
       "    </tr>\n",
       "    <tr>\n",
       "      <th>911</th>\n",
       "      <td>g989</td>\n",
       "      <td>Propriva</td>\n",
       "      <td>Female</td>\n",
       "      <td>21</td>\n",
       "      <td>26</td>\n",
       "      <td>5</td>\n",
       "      <td>47.570392</td>\n",
       "      <td>0</td>\n",
       "      <td>True</td>\n",
       "    </tr>\n",
       "    <tr>\n",
       "      <th>912</th>\n",
       "      <td>g989</td>\n",
       "      <td>Propriva</td>\n",
       "      <td>Female</td>\n",
       "      <td>21</td>\n",
       "      <td>26</td>\n",
       "      <td>10</td>\n",
       "      <td>51.745156</td>\n",
       "      <td>0</td>\n",
       "      <td>True</td>\n",
       "    </tr>\n",
       "    <tr>\n",
       "      <th>913</th>\n",
       "      <td>g989</td>\n",
       "      <td>Propriva</td>\n",
       "      <td>Female</td>\n",
       "      <td>21</td>\n",
       "      <td>26</td>\n",
       "      <td>10</td>\n",
       "      <td>49.880528</td>\n",
       "      <td>0</td>\n",
       "      <td>True</td>\n",
       "    </tr>\n",
       "    <tr>\n",
       "      <th>914</th>\n",
       "      <td>g989</td>\n",
       "      <td>Propriva</td>\n",
       "      <td>Female</td>\n",
       "      <td>21</td>\n",
       "      <td>26</td>\n",
       "      <td>15</td>\n",
       "      <td>51.325852</td>\n",
       "      <td>1</td>\n",
       "      <td>True</td>\n",
       "    </tr>\n",
       "    <tr>\n",
       "      <th>915</th>\n",
       "      <td>g989</td>\n",
       "      <td>Propriva</td>\n",
       "      <td>Female</td>\n",
       "      <td>21</td>\n",
       "      <td>26</td>\n",
       "      <td>15</td>\n",
       "      <td>53.442020</td>\n",
       "      <td>0</td>\n",
       "      <td>True</td>\n",
       "    </tr>\n",
       "    <tr>\n",
       "      <th>916</th>\n",
       "      <td>g989</td>\n",
       "      <td>Propriva</td>\n",
       "      <td>Female</td>\n",
       "      <td>21</td>\n",
       "      <td>26</td>\n",
       "      <td>20</td>\n",
       "      <td>55.326122</td>\n",
       "      <td>1</td>\n",
       "      <td>True</td>\n",
       "    </tr>\n",
       "    <tr>\n",
       "      <th>917</th>\n",
       "      <td>g989</td>\n",
       "      <td>Propriva</td>\n",
       "      <td>Female</td>\n",
       "      <td>21</td>\n",
       "      <td>26</td>\n",
       "      <td>20</td>\n",
       "      <td>54.657650</td>\n",
       "      <td>1</td>\n",
       "      <td>True</td>\n",
       "    </tr>\n",
       "  </tbody>\n",
       "</table>\n",
       "</div>"
      ],
      "text/plain": [
       "    Mouse ID Drug Regimen     Sex  Age_months  Weight (g)  Timepoint  \\\n",
       "908     g989     Propriva  Female          21          26          0   \n",
       "909     g989     Propriva  Female          21          26          0   \n",
       "910     g989     Propriva  Female          21          26          5   \n",
       "911     g989     Propriva  Female          21          26          5   \n",
       "912     g989     Propriva  Female          21          26         10   \n",
       "913     g989     Propriva  Female          21          26         10   \n",
       "914     g989     Propriva  Female          21          26         15   \n",
       "915     g989     Propriva  Female          21          26         15   \n",
       "916     g989     Propriva  Female          21          26         20   \n",
       "917     g989     Propriva  Female          21          26         20   \n",
       "\n",
       "     Tumor Volume (mm3)  Metastatic Sites  duplicated  \n",
       "908           45.000000                 0        True  \n",
       "909           45.000000                 0        True  \n",
       "910           48.786801                 0        True  \n",
       "911           47.570392                 0        True  \n",
       "912           51.745156                 0        True  \n",
       "913           49.880528                 0        True  \n",
       "914           51.325852                 1        True  \n",
       "915           53.442020                 0        True  \n",
       "916           55.326122                 1        True  \n",
       "917           54.657650                 1        True  "
      ]
     },
     "execution_count": 3,
     "metadata": {},
     "output_type": "execute_result"
    }
   ],
   "source": [
    "# Getting the duplicate mice by ID number that shows up for Mouse ID and Timepoint. \n",
    "\n",
    "# Figure out which mouse ID has duplicates; set up a dataframe to hold that series info. Print to view \n",
    "\n",
    "dup_mice = mouse_results.duplicated(subset=[\"Mouse ID\", \"Timepoint\"],keep=False) \n",
    "\n",
    "mouse_results_view_dupes = mouse_results\n",
    "\n",
    "mouse_results_view_dupes[\"duplicated\"] = dup_mice\n",
    "\n",
    "mouse_results_view_dupes = mouse_results_view_dupes.loc[mouse_results[\"duplicated\"] == True,:]\n",
    "\n",
    "mouse_results_view_dupes"
   ]
  },
  {
   "cell_type": "code",
   "execution_count": 4,
   "metadata": {},
   "outputs": [],
   "source": [
    "# Create a clean DataFrame by dropping the duplicate mouse by its ID.\n",
    "\n",
    "mouse_results_clean = mouse_results.loc[mouse_results[\"Mouse ID\"] != \"g989\",:]"
   ]
  },
  {
   "cell_type": "code",
   "execution_count": 5,
   "metadata": {},
   "outputs": [
    {
     "data": {
      "text/plain": [
       "248"
      ]
     },
     "execution_count": 5,
     "metadata": {},
     "output_type": "execute_result"
    }
   ],
   "source": [
    "# Checking the number of mice in the clean DataFrame.\n",
    "len(mouse_results_clean[\"Mouse ID\"].unique())"
   ]
  },
  {
   "cell_type": "markdown",
   "metadata": {},
   "source": [
    "## Summary Statistics"
   ]
  },
  {
   "cell_type": "code",
   "execution_count": 6,
   "metadata": {},
   "outputs": [
    {
     "data": {
      "text/html": [
       "<div>\n",
       "<style scoped>\n",
       "    .dataframe tbody tr th:only-of-type {\n",
       "        vertical-align: middle;\n",
       "    }\n",
       "\n",
       "    .dataframe tbody tr th {\n",
       "        vertical-align: top;\n",
       "    }\n",
       "\n",
       "    .dataframe thead th {\n",
       "        text-align: right;\n",
       "    }\n",
       "</style>\n",
       "<table border=\"1\" class=\"dataframe\">\n",
       "  <thead>\n",
       "    <tr style=\"text-align: right;\">\n",
       "      <th></th>\n",
       "      <th>Mean of Tumor Volume (TV)</th>\n",
       "      <th>Median of TV</th>\n",
       "      <th>Variance of TV</th>\n",
       "      <th>Standard Deviation of TV</th>\n",
       "      <th>Standard Error of the Mean of TV</th>\n",
       "    </tr>\n",
       "    <tr>\n",
       "      <th>Drug Regimen</th>\n",
       "      <th></th>\n",
       "      <th></th>\n",
       "      <th></th>\n",
       "      <th></th>\n",
       "      <th></th>\n",
       "    </tr>\n",
       "  </thead>\n",
       "  <tbody>\n",
       "    <tr>\n",
       "      <th>Capomulin</th>\n",
       "      <td>40.675741</td>\n",
       "      <td>41.557809</td>\n",
       "      <td>24.947764</td>\n",
       "      <td>4.994774</td>\n",
       "      <td>0.329346</td>\n",
       "    </tr>\n",
       "    <tr>\n",
       "      <th>Ceftamin</th>\n",
       "      <td>52.591172</td>\n",
       "      <td>51.776157</td>\n",
       "      <td>39.290177</td>\n",
       "      <td>6.268188</td>\n",
       "      <td>0.469821</td>\n",
       "    </tr>\n",
       "    <tr>\n",
       "      <th>Infubinol</th>\n",
       "      <td>52.884795</td>\n",
       "      <td>51.820584</td>\n",
       "      <td>43.128684</td>\n",
       "      <td>6.567243</td>\n",
       "      <td>0.492236</td>\n",
       "    </tr>\n",
       "    <tr>\n",
       "      <th>Ketapril</th>\n",
       "      <td>55.235638</td>\n",
       "      <td>53.698743</td>\n",
       "      <td>68.553577</td>\n",
       "      <td>8.279709</td>\n",
       "      <td>0.603860</td>\n",
       "    </tr>\n",
       "    <tr>\n",
       "      <th>Naftisol</th>\n",
       "      <td>54.331565</td>\n",
       "      <td>52.509285</td>\n",
       "      <td>66.173479</td>\n",
       "      <td>8.134708</td>\n",
       "      <td>0.596466</td>\n",
       "    </tr>\n",
       "    <tr>\n",
       "      <th>Placebo</th>\n",
       "      <td>54.033581</td>\n",
       "      <td>52.288934</td>\n",
       "      <td>61.168083</td>\n",
       "      <td>7.821003</td>\n",
       "      <td>0.581331</td>\n",
       "    </tr>\n",
       "    <tr>\n",
       "      <th>Propriva</th>\n",
       "      <td>52.320930</td>\n",
       "      <td>50.446266</td>\n",
       "      <td>43.852013</td>\n",
       "      <td>6.622085</td>\n",
       "      <td>0.544332</td>\n",
       "    </tr>\n",
       "    <tr>\n",
       "      <th>Ramicane</th>\n",
       "      <td>40.216745</td>\n",
       "      <td>40.673236</td>\n",
       "      <td>23.486704</td>\n",
       "      <td>4.846308</td>\n",
       "      <td>0.320955</td>\n",
       "    </tr>\n",
       "    <tr>\n",
       "      <th>Stelasyn</th>\n",
       "      <td>54.233149</td>\n",
       "      <td>52.431737</td>\n",
       "      <td>59.450562</td>\n",
       "      <td>7.710419</td>\n",
       "      <td>0.573111</td>\n",
       "    </tr>\n",
       "    <tr>\n",
       "      <th>Zoniferol</th>\n",
       "      <td>53.236507</td>\n",
       "      <td>51.818479</td>\n",
       "      <td>48.533355</td>\n",
       "      <td>6.966589</td>\n",
       "      <td>0.516398</td>\n",
       "    </tr>\n",
       "  </tbody>\n",
       "</table>\n",
       "</div>"
      ],
      "text/plain": [
       "              Mean of Tumor Volume (TV)  Median of TV  Variance of TV  \\\n",
       "Drug Regimen                                                            \n",
       "Capomulin                     40.675741     41.557809       24.947764   \n",
       "Ceftamin                      52.591172     51.776157       39.290177   \n",
       "Infubinol                     52.884795     51.820584       43.128684   \n",
       "Ketapril                      55.235638     53.698743       68.553577   \n",
       "Naftisol                      54.331565     52.509285       66.173479   \n",
       "Placebo                       54.033581     52.288934       61.168083   \n",
       "Propriva                      52.320930     50.446266       43.852013   \n",
       "Ramicane                      40.216745     40.673236       23.486704   \n",
       "Stelasyn                      54.233149     52.431737       59.450562   \n",
       "Zoniferol                     53.236507     51.818479       48.533355   \n",
       "\n",
       "              Standard Deviation of TV  Standard Error of the Mean of TV  \n",
       "Drug Regimen                                                              \n",
       "Capomulin                     4.994774                          0.329346  \n",
       "Ceftamin                      6.268188                          0.469821  \n",
       "Infubinol                     6.567243                          0.492236  \n",
       "Ketapril                      8.279709                          0.603860  \n",
       "Naftisol                      8.134708                          0.596466  \n",
       "Placebo                       7.821003                          0.581331  \n",
       "Propriva                      6.622085                          0.544332  \n",
       "Ramicane                      4.846308                          0.320955  \n",
       "Stelasyn                      7.710419                          0.573111  \n",
       "Zoniferol                     6.966589                          0.516398  "
      ]
     },
     "execution_count": 6,
     "metadata": {},
     "output_type": "execute_result"
    }
   ],
   "source": [
    "# Generate a summary statistics table of mean, median, variance, standard deviation, and SEM of the tumor volume for each regimen\n",
    "mr_mean = mouse_results_clean.groupby([\"Drug Regimen\"])[\"Tumor Volume (mm3)\"].mean()\n",
    "mr_median = mouse_results_clean.groupby([\"Drug Regimen\"])[\"Tumor Volume (mm3)\"].median()\n",
    "mr_variance = mouse_results_clean.groupby([\"Drug Regimen\"])[\"Tumor Volume (mm3)\"].var()\n",
    "mr_std = mouse_results_clean.groupby([\"Drug Regimen\"])[\"Tumor Volume (mm3)\"].std()\n",
    "mr_sem = mouse_results_clean.groupby([\"Drug Regimen\"])[\"Tumor Volume (mm3)\"].sem()\n",
    "\n",
    "summ_stats = pd.DataFrame({\n",
    "    \"Mean of Tumor Volume (TV)\": mr_mean,\n",
    "    \"Median of TV\": mr_median,\n",
    "    \"Variance of TV\": mr_variance,\n",
    "    \"Standard Deviation of TV\": mr_std,\n",
    "    \"Standard Error of the Mean of TV\": mr_sem\n",
    "})\n",
    "summ_stats\n",
    "\n"
   ]
  },
  {
   "cell_type": "markdown",
   "metadata": {},
   "source": [
    "## Bar and Pie Charts"
   ]
  },
  {
   "cell_type": "code",
   "execution_count": 7,
   "metadata": {},
   "outputs": [
    {
     "data": {
      "text/plain": [
       "<AxesSubplot:title={'center':'Number of TimePoints by Drug Regimen'}, xlabel='Drug Regimen', ylabel='No. of Timepoints'>"
      ]
     },
     "execution_count": 7,
     "metadata": {},
     "output_type": "execute_result"
    },
    {
     "data": {
      "image/png": "[encoded data removed]",
      "text/plain": [
       "<Figure size 432x288 with 1 Axes>"
      ]
     },
     "metadata": {
      "needs_background": "light"
     },
     "output_type": "display_data"
    }
   ],
   "source": [
    "# Generate a bar plot showing the total number of timepoints for all mice tested for each drug regimen using Pandas.\n",
    "# df for timepoints by drug\n",
    "\n",
    "tp_by_drug_pd = mouse_results_clean[[\"Drug Regimen\",\"Timepoint\"]]\n",
    "tp_by_drug_pd = tp_by_drug_pd.groupby([\"Drug Regimen\"]).count()\n",
    "\n",
    "# plot the df\n",
    "\n",
    "tp_by_drug_pd.plot(kind = \"bar\", title = \"Number of TimePoints by Drug Regimen\", ylabel = \"No. of Timepoints\")"
   ]
  },
  {
   "cell_type": "code",
   "execution_count": 8,
   "metadata": {},
   "outputs": [
    {
     "data": {
      "text/plain": [
       "Text(0.5, 1.0, 'Number of TimePoints by Drug Regimen')"
      ]
     },
     "execution_count": 8,
     "metadata": {},
     "output_type": "execute_result"
    },
    {
     "data": {
      "image/png": "[encoded data removed]",
      "text/plain": [
       "<Figure size 864x432 with 1 Axes>"
      ]
     },
     "metadata": {
      "needs_background": "light"
     },
     "output_type": "display_data"
    }
   ],
   "source": [
    "# Generate a bar plot showing the total number of timepoints for all mice tested for each drug regimen using pyplot.\n",
    "\n",
    "x_axis = mouse_results_clean[\"Drug Regimen\"].unique()\n",
    "y_axis = mouse_results_clean.groupby([\"Drug Regimen\"]).count()[\"Timepoint\"]\n",
    "\n",
    "# plot the data + stretch the figure size so the x tick values (drug names) are not smashed together and are readable\n",
    "plt.figure(figsize=(12,6))\n",
    "plt.bar(x_axis, y_axis)\n",
    "plt.xlabel(\"Drug Regimen\")\n",
    "plt.ylabel(\"Total No. of Timepoints\")\n",
    "plt.title(\"Number of TimePoints by Drug Regimen\")"
   ]
  },
  {
   "cell_type": "code",
   "execution_count": 9,
   "metadata": {},
   "outputs": [
    {
     "data": {
      "text/plain": [
       "<AxesSubplot:title={'center':'No. of Female vs. Male Mice'}>"
      ]
     },
     "execution_count": 9,
     "metadata": {},
     "output_type": "execute_result"
    },
    {
     "data": {
      "image/png": "[encoded data removed]",
      "text/plain": [
       "<Figure size 432x288 with 1 Axes>"
      ]
     },
     "metadata": {},
     "output_type": "display_data"
    }
   ],
   "source": [
    "# Generate a pie plot showing the distribution of female versus male mice using Pandas\n",
    "\n",
    "sex = mouse_results_clean.groupby([\"Sex\"]).count()[\"Mouse ID\"] \n",
    "\n",
    "sex.plot(kind=\"pie\",ylabel = \"\", title = \"No. of Female vs. Male Mice\")"
   ]
  },
  {
   "cell_type": "code",
   "execution_count": 10,
   "metadata": {},
   "outputs": [
    {
     "data": {
      "text/plain": [
       "Text(0.5, 1.0, 'No. of Female vs. Male Mice')"
      ]
     },
     "execution_count": 10,
     "metadata": {},
     "output_type": "execute_result"
    },
    {
     "data": {
      "image/png": "[encoded data removed]",
      "text/plain": [
       "<Figure size 432x288 with 1 Axes>"
      ]
     },
     "metadata": {},
     "output_type": "display_data"
    }
   ],
   "source": [
    "# Generate a pie plot showing the distribution of female versus male mice using pyplot\n",
    "\n",
    "sex_number = [len(mouse_results_clean.loc[mouse_results_clean[\"Sex\"] == \"Female\",:]),len(mouse_results_clean.loc[mouse_results_clean[\"Sex\"] == \"Male\",:])]\n",
    "sex_labels = [\"Female\",\"Male\"]\n",
    "colors = [\"blue\",\"orange\"]\n",
    "plt.pie(sex_number, labels=sex_labels, colors=colors)\n",
    "plt.title(\"No. of Female vs. Male Mice\")\n"
   ]
  },
  {
   "cell_type": "markdown",
   "metadata": {},
   "source": [
    "## Quartiles, Outliers and Boxplots"
   ]
  },
  {
   "cell_type": "code",
   "execution_count": 11,
   "metadata": {},
   "outputs": [],
   "source": [
    "# Calculate the final tumor volume of each mouse across four of the treatment regimens:\n",
    "# Capomulin, Ramicane, Infubinol, and Ceftamin\n",
    "\n",
    "# Start by getting the last (greatest) timepoint for each mouse\n",
    "greatest_tp = mouse_results_clean.groupby([\"Mouse ID\"])[\"Timepoint\"].max()\n",
    "\n",
    "# Merge this group df with the original dataframe to get the tumor volume at the last timepoint\n",
    "\n",
    "tumor_vol = mouse_results_clean[[\"Mouse ID\",\"Tumor Volume (mm3)\", \"Drug Regimen\", \"Timepoint\"]]\n",
    "\n",
    "final_tumor_vol = pd.merge(greatest_tp, tumor_vol, on= [\"Mouse ID\",\"Timepoint\"], how = \"inner\")\n",
    "\n",
    "# isolate to the four drugs that the instructions want:\n",
    "\n",
    "final_tumor_vol_Cap = final_tumor_vol.loc[final_tumor_vol[\"Drug Regimen\"] == \"Capomulin\"]\n",
    "final_tumor_vol_Ram = final_tumor_vol.loc[final_tumor_vol[\"Drug Regimen\"] == \"Ramicane\"]\n",
    "final_tumor_vol_Inf = final_tumor_vol.loc[final_tumor_vol[\"Drug Regimen\"] == \"Infubinol\"]\n",
    "final_tumor_vol_Cef = final_tumor_vol.loc[final_tumor_vol[\"Drug Regimen\"] == \"Ceftamin\"]\n"
   ]
  },
  {
   "cell_type": "code",
   "execution_count": 12,
   "metadata": {},
   "outputs": [
    {
     "data": {
      "image/png": "[encoded data removed]",
      "text/plain": [
       "<Figure size 432x288 with 1 Axes>"
      ]
     },
     "metadata": {
      "needs_background": "light"
     },
     "output_type": "display_data"
    },
    {
     "name": "stdout",
     "output_type": "stream",
     "text": [
      "Capomulin:\n",
      "first, second, third, and fourth quartiles: 32.37735684, 38.1251644, 40.1592203,47.68596303\n",
      "IQR: 7.781863460000004\n",
      "lower, upper bounds: 20.70456164999999,51.83201549\n",
      "lower outliers: []\n",
      "upper outliers: []\n",
      "Ramicane:\n",
      "first, second, third, and fourth quartiles: 31.56046955, 36.56165229, 40.65900627,45.22086888\n",
      "IQR: 9.098536719999998\n",
      "lower, upper bounds: 17.912664470000003,54.30681135\n",
      "lower outliers: []\n",
      "upper outliers: []\n",
      "Infubinol:\n",
      "first, second, third, and fourth quartiles: 54.04860769, 60.16518046, 65.52574285,72.2267309\n",
      "IQR: 11.477135160000003\n",
      "lower, upper bounds: 36.83290494999999,82.74144559000001\n",
      "lower outliers: [36.3213458]\n",
      "upper outliers: []\n",
      "Ceftamin:\n",
      "first, second, third, and fourth quartiles: 48.72207785, 59.85195552, 64.29983003,68.92318457\n",
      "IQR: 15.577752179999997\n",
      "lower, upper bounds: 25.355449580000002,87.66645829999999\n",
      "lower outliers: []\n",
      "upper outliers: []\n"
     ]
    }
   ],
   "source": [
    "# pull out the final tumor volume data for each drug\n",
    "\n",
    "tumor_vol_list_Cap = final_tumor_vol_Cap[\"Tumor Volume (mm3)\"]\n",
    "tumor_vol_list_Ram = final_tumor_vol_Ram[\"Tumor Volume (mm3)\"]\n",
    "tumor_vol_list_Inf = final_tumor_vol_Inf[\"Tumor Volume (mm3)\"]\n",
    "tumor_vol_list_Cef = final_tumor_vol_Cef[\"Tumor Volume (mm3)\"]\n",
    "\n",
    "# plot the box, including a color/format change for the outlier\n",
    "\n",
    "red_diamond = dict(markerfacecolor='r', marker='D')\n",
    "\n",
    "four_drug_tumor_vol = plt.boxplot([tumor_vol_list_Cap,tumor_vol_list_Ram, tumor_vol_list_Inf, tumor_vol_list_Cef], flierprops = red_diamond)\n",
    "\n",
    "# put in the title and the labels\n",
    "plt.title(\"Final Tumor Volume for Mouses Using Capomulin, Ramicane, Infubinol, and Ceftamin\")\n",
    "plt.ylabel(\"Tumor Volume (mm3)\")\n",
    "plt.xlabel(\"Drug Type\")\n",
    "\n",
    "positions = [1,2,3,4]\n",
    "labels = [\"Capomulin\", \"Ramicane\", \"Infubinol\", \"Ceftamin\"]\n",
    "\n",
    "plt.xticks(positions, labels)\n",
    "\n",
    "plt.show()\n",
    "\n",
    "# run a loop to calculate quartile, IQR, lower and upper bounds, and potential outliers for each drug\n",
    "\n",
    "for drug in labels:\n",
    "    \n",
    "    # calculate the quartile, iqr, and upper and lower bound values \n",
    "    drug_tumor_data = final_tumor_vol.loc[final_tumor_vol[\"Drug Regimen\"] == drug,:]\n",
    "    tumor_vol_data = drug_tumor_data[\"Tumor Volume (mm3)\"]\n",
    "    quartiles = tumor_vol_data.quantile([0.25, 0.5, 0.75, 1.0])\n",
    "    firstq = quartiles[0.25]\n",
    "    secondq = quartiles[0.5]\n",
    "    thirdq = quartiles[0.75]\n",
    "    fourthq = quartiles[1.0]\n",
    "    iqr = thirdq - firstq\n",
    "    lower_bound = firstq - (1.5*iqr)\n",
    "    upper_bound = thirdq + (1.5*iqr)\n",
    "    \n",
    "    # find outliers, if there are any\n",
    "    \n",
    "    outlier_lower = []\n",
    "    outlier_upper = []\n",
    "\n",
    "    for x in tumor_vol_data:\n",
    "        if x < lower_bound:\n",
    "            outlier_lower.append(x)\n",
    "        if x > upper_bound:\n",
    "            outlier_upper.append(x)\n",
    "    \n",
    "    # print answers before moving onto the next drug\n",
    "    \n",
    "    print(drug + \":\")\n",
    "    print(f\"first, second, third, and fourth quartiles: {firstq}, {secondq}, {thirdq},{fourthq}\")\n",
    "    print(f\"IQR: {iqr}\")\n",
    "    print(f\"lower, upper bounds: {lower_bound},{upper_bound}\")\n",
    "    print(f\"lower outliers: {outlier_lower}\")\n",
    "    print(f\"upper outliers: {outlier_upper}\")\n",
    "\n"
   ]
  },
  {
   "cell_type": "markdown",
   "metadata": {},
   "source": [
    "## Line and Scatter Plots"
   ]
  },
  {
   "cell_type": "code",
   "execution_count": 13,
   "metadata": {},
   "outputs": [
    {
     "data": {
      "text/plain": [
       "Text(0.5, 1.0, 'Tumor Volume Over Time for s185')"
      ]
     },
     "execution_count": 13,
     "metadata": {},
     "output_type": "execute_result"
    },
    {
     "data": {
      "image/png": "[encoded data removed]",
      "text/plain": [
       "<Figure size 432x288 with 1 Axes>"
      ]
     },
     "metadata": {
      "needs_background": "light"
     },
     "output_type": "display_data"
    }
   ],
   "source": [
    "# Generate a line plot of tumor volume vs. time point for a mouse treated with Capomulin\n",
    "\n",
    "\n",
    "# first find a mouse that was treated with Capomulin\n",
    "mouse_capomulin = mouse_results_clean.loc[mouse_results_clean[\"Drug Regimen\"] == \"Capomulin\",:]\n",
    "mouse_sample = mouse_capomulin.sample()\n",
    "\n",
    "# Based on printed sample, Mouse ID s185 was identified as a mouse that used Capomulin. \n",
    "# Gather that individual mouse's data\n",
    "\n",
    "indMouse_data = mouse_results_clean.loc[mouse_results_clean[\"Mouse ID\"] == \"s185\",:]\n",
    "\n",
    "# Generate the x and y label axis data\n",
    "\n",
    "indMouse_x = indMouse_data[\"Timepoint\"]\n",
    "indMouse_y = indMouse_data[\"Tumor Volume (mm3)\"]\n",
    "\n",
    "# plot the data\n",
    "plt.plot(indMouse_x, indMouse_y)\n",
    "\n",
    "# label the data\n",
    "plt.xlabel(\"Timepoint\")\n",
    "plt.ylabel(\"Tumor Volume (mm3)\")\n",
    "plt.title(\"Tumor Volume Over Time for s185\")\n"
   ]
  },
  {
   "cell_type": "code",
   "execution_count": 14,
   "metadata": {},
   "outputs": [
    {
     "data": {
      "text/plain": [
       "Text(0.5, 1.0, 'Capomulin Mice: Average Weight vs. Average Tumor Volume (mm3)')"
      ]
     },
     "execution_count": 14,
     "metadata": {},
     "output_type": "execute_result"
    },
    {
     "data": {
      "image/png": "[encoded data removed]",
      "text/plain": [
       "<Figure size 432x288 with 1 Axes>"
      ]
     },
     "metadata": {
      "needs_background": "light"
     },
     "output_type": "display_data"
    }
   ],
   "source": [
    "# Generate a scatter plot of average tumor volume vs. mouse weight for the Capomulin regimen\n",
    "\n",
    "capomulin_data = mouse_results_clean.loc[mouse_results_clean[\"Drug Regimen\"] == \"Capomulin\",:]\n",
    "cap_tumor = capomulin_data.groupby([\"Mouse ID\"])[\"Tumor Volume (mm3)\"].mean()\n",
    "cap_weight = capomulin_data.groupby([\"Mouse ID\"])[\"Weight (g)\"].mean()\n",
    "\n",
    "plt.scatter(cap_weight, cap_tumor)\n",
    "\n",
    "plt.xlabel(\"Weight (g)\")\n",
    "plt.ylabel(\"Tumor Volume (mm3)\")\n",
    "plt.title(\"Capomulin Mice: Average Weight vs. Average Tumor Volume (mm3)\")"
   ]
  },
  {
   "cell_type": "markdown",
   "metadata": {},
   "source": [
    "## Correlation and Regression"
   ]
  },
  {
   "cell_type": "code",
   "execution_count": 15,
   "metadata": {},
   "outputs": [
    {
     "name": "stdout",
     "output_type": "stream",
     "text": [
      "The correlation coefficient is 0.8419363424694718\n"
     ]
    }
   ],
   "source": [
    "# Calculate the correlation coefficient \n",
    "# for mouse weight and average tumor volume for the Capomulin regimen\n",
    "\n",
    "correlation = st.pearsonr(cap_weight,cap_tumor)\n",
    "final_corr = correlation[0]\n",
    "print(f\"The correlation coefficient is {final_corr}\")\n"
   ]
  },
  {
   "cell_type": "code",
   "execution_count": 16,
   "metadata": {},
   "outputs": [
    {
     "data": {
      "text/plain": [
       "Text(0.5, 1.0, 'Tumor Volume (mm3) by Weight (g)')"
      ]
     },
     "execution_count": 16,
     "metadata": {},
     "output_type": "execute_result"
    },
    {
     "data": {
      "image/png": "[encoded data removed]",
      "text/plain": [
       "<Figure size 432x288 with 1 Axes>"
      ]
     },
     "metadata": {
      "needs_background": "light"
     },
     "output_type": "display_data"
    }
   ],
   "source": [
    "# calculate the linear regression model and then plot with linear regression\n",
    "(slope, intercept, rvalue, pvalue, stderr) = linregress(cap_weight, cap_tumor)\n",
    "regress_value = cap_weight*slope+intercept\n",
    "\n",
    "plt.scatter(cap_weight,cap_tumor)\n",
    "plt.plot(cap_weight, regress_value, \"r-\")\n",
    "\n",
    "plt.xlabel(\"Weight (g)\")\n",
    "plt.ylabel(\"Tumor Volume (mm3)\")\n",
    "plt.title(\"Tumor Volume (mm3) by Weight (g)\")"
   ]
  }
 ],
 "metadata": {
  "anaconda-cloud": {},
  "kernelspec": {
   "display_name": "Python 3 (ipykernel)",
   "language": "python",
   "name": "python3"
  },
  "language_info": {
   "codemirror_mode": {
    "name": "ipython",
    "version": 3
   },
   "file_extension": ".py",
   "mimetype": "text/x-python",
   "name": "python",
   "nbconvert_exporter": "python",
   "pygments_lexer": "ipython3",
   "version": "3.8.11"
  }
 },
 "nbformat": 4,
 "nbformat_minor": 4
}
